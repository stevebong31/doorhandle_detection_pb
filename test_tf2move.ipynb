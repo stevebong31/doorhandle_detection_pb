{
 "cells": [
  {
   "cell_type": "code",
   "execution_count": 1,
   "metadata": {},
   "outputs": [],
   "source": [
    "#!/usr/bin/env python  \n",
    "import roslib\n",
    "import rospy\n",
    "import math\n",
    "import tf\n",
    "import geometry_msgs\n",
    "import visualization_msgs.msg "
   ]
  },
  {
   "cell_type": "code",
   "execution_count": 2,
   "metadata": {},
   "outputs": [],
   "source": [
    "rospy.init_node('pepper_tf2move')\n",
    "\n",
    "listener = tf.TransformListener()"
   ]
  },
  {
   "cell_type": "code",
   "execution_count": 3,
   "metadata": {},
   "outputs": [],
   "source": [
    "pose_stamp =geometry_msgs.msg.PoseStamped()"
   ]
  },
  {
   "cell_type": "code",
   "execution_count": 4,
   "metadata": {},
   "outputs": [],
   "source": [
    "door_marker = rospy.Publisher('/marker', visualization_msgs.msg.MarkerArray,queue_size=1)\n",
    "\n",
    "marker = visualization_msgs.msg.Marker()\n",
    "markerarr = visualization_msgs.msg.MarkerArray()"
   ]
  },
  {
   "cell_type": "code",
   "execution_count": 5,
   "metadata": {},
   "outputs": [],
   "source": [
    "def make_marker(marker_name,trans,rot,color):\n",
    "    marker.header.frame_id = 'map'\n",
    "    marker.header.seq = 1\n",
    "    marker.header.stamp = rospy.Time.now()\n",
    "    marker.type = visualization_msgs.msg.Marker.SPHERE\n",
    "    marker.ADD\n",
    "    marker.text = marker_name\n",
    "\n",
    "    marker.pose.position.x = trans[0]\n",
    "    marker.pose.position.y = trans[1]\n",
    "    marker.pose.position.z = trans[2]\n",
    "    marker.ns = marker_name\n",
    "    marker.pose.orientation.x =rot[0] \n",
    "    marker.pose.orientation.y =rot[1] \n",
    "    marker.pose.orientation.z =rot[2] \n",
    "    marker.pose.orientation.w =rot[3] \n",
    "\n",
    "    marker.scale.x = 0.1\n",
    "    marker.scale.y = 0.1\n",
    "    marker.scale.z = 0.1\n",
    "    marker.color.a = 1\n",
    "    if color == 0:\n",
    "        marker.color.r = 0\n",
    "        marker.color.g = 1\n",
    "        marker.color.b = 0\n",
    "    elif color == 1:\n",
    "        marker.color.r = 1\n",
    "        marker.color.g = 0\n",
    "        marker.color.b = 0\n",
    "    else:\n",
    "        marker.color.r = 0\n",
    "        marker.color.g = 0\n",
    "        marker.color.b = 1\n",
    "\n",
    "    markerarr.markers.append(marker)"
   ]
  },
  {
   "cell_type": "code",
   "execution_count": 6,
   "metadata": {},
   "outputs": [
    {
     "ename": "NameError",
     "evalue": "name 'trans' is not defined",
     "output_type": "error",
     "traceback": [
      "\u001b[0;31m---------------------------------------------------------------------------\u001b[0m",
      "\u001b[0;31mNameError\u001b[0m                                 Traceback (most recent call last)",
      "\u001b[0;32m<ipython-input-6-dc311b8818f3>\u001b[0m in \u001b[0;36m<module>\u001b[0;34m()\u001b[0m\n\u001b[0;32m----> 1\u001b[0;31m \u001b[0mmake_marker\u001b[0m\u001b[0;34m(\u001b[0m\u001b[0;34m'num1'\u001b[0m\u001b[0;34m,\u001b[0m\u001b[0mtrans\u001b[0m\u001b[0;34m,\u001b[0m\u001b[0mrot\u001b[0m\u001b[0;34m,\u001b[0m\u001b[0;36m0\u001b[0m\u001b[0;34m)\u001b[0m\u001b[0;34m\u001b[0m\u001b[0m\n\u001b[0m\u001b[1;32m      2\u001b[0m \u001b[0mtrans1\u001b[0m \u001b[0;34m=\u001b[0m \u001b[0mtrans\u001b[0m\u001b[0;34m\u001b[0m\u001b[0m\n\u001b[1;32m      3\u001b[0m \u001b[0mtrans1\u001b[0m\u001b[0;34m[\u001b[0m\u001b[0;36m1\u001b[0m\u001b[0;34m]\u001b[0m \u001b[0;34m=\u001b[0m \u001b[0mtrans\u001b[0m\u001b[0;34m[\u001b[0m\u001b[0;36m1\u001b[0m\u001b[0;34m]\u001b[0m\u001b[0;34m+\u001b[0m\u001b[0;36m1\u001b[0m\u001b[0;34m\u001b[0m\u001b[0m\n\u001b[1;32m      4\u001b[0m \u001b[0mmake_marker\u001b[0m\u001b[0;34m(\u001b[0m\u001b[0;34m'num2'\u001b[0m\u001b[0;34m,\u001b[0m\u001b[0mtrans1\u001b[0m\u001b[0;34m,\u001b[0m\u001b[0mrot\u001b[0m\u001b[0;34m,\u001b[0m\u001b[0;36m1\u001b[0m\u001b[0;34m)\u001b[0m\u001b[0;34m\u001b[0m\u001b[0m\n\u001b[1;32m      5\u001b[0m \u001b[0mtrans2\u001b[0m \u001b[0;34m=\u001b[0m \u001b[0mtrans\u001b[0m\u001b[0;34m\u001b[0m\u001b[0m\n",
      "\u001b[0;31mNameError\u001b[0m: name 'trans' is not defined"
     ]
    }
   ],
   "source": [
    "make_marker('num1',trans,rot,0)\n",
    "trans1 = trans\n",
    "trans1[1] = trans[1]+1\n",
    "make_marker('num2',trans1,rot,1)\n",
    "trans2 = trans\n",
    "trans2[1] = trans[1]-1\n",
    "make_marker('num3',trans2,rot,2)\n",
    "\n",
    "door_marker.publish(markerarr)"
   ]
  },
  {
   "cell_type": "code",
   "execution_count": null,
   "metadata": {},
   "outputs": [],
   "source": [
    "tmp_m = 0\n",
    "tmp_o1 = 0\n",
    "tmp_o2 = 0\n",
    "\n",
    "while True:\n",
    "    try:\n",
    "        (trans1,rot1) = listener.lookupTransform('/map','/meeting_room_0',rospy.Time(0))\n",
    "        #print(trans1,rot1)\n",
    "        tmp_m += 1 \n",
    "        if tmp_m == 3:\n",
    "            make_marker('room1',trans1,rot1,0)\n",
    "            door_marker.publish(markerarr)\n",
    "    except:\n",
    "        tmp_m = 0\n",
    "\n",
    "    try:\n",
    "        (trans2,rot2) = listener.lookupTransform('/map','/office_room1_0',rospy.Time(0))\n",
    "        #print(trans2,rot2)\n",
    "        tmp_o1 += 1\n",
    "        if tmp_o1 == 3:\n",
    "            make_marker('room2',trans2,rot2,1)\n",
    "            door_marker.publish(markerarr)\n",
    "    except:\n",
    "        tmp_o1 = 0\n",
    "\n",
    "    try:\n",
    "        (trans3,rot3) = listener.lookupTransform('/map','/office_room2_0',rospy.Time(0))\n",
    "        #print(trans3,rot3)\n",
    "        tmp_o2 += 1\n",
    "        if tmp_o2 == 3:\n",
    "            make_marker('room3',trans3,rot3,2)\n",
    "            door_marker.publish(markerarr)\n",
    "    except:\n",
    "        tmp_o2 = 0"
   ]
  },
  {
   "cell_type": "code",
   "execution_count": null,
   "metadata": {},
   "outputs": [],
   "source": [
    "markerarr.markers."
   ]
  },
  {
   "cell_type": "code",
   "execution_count": null,
   "metadata": {},
   "outputs": [],
   "source": []
  }
 ],
 "metadata": {
  "kernelspec": {
   "display_name": "Python 2",
   "language": "python",
   "name": "python2"
  },
  "language_info": {
   "codemirror_mode": {
    "name": "ipython",
    "version": 2
   },
   "file_extension": ".py",
   "mimetype": "text/x-python",
   "name": "python",
   "nbconvert_exporter": "python",
   "pygments_lexer": "ipython2",
   "version": "2.7.12"
  }
 },
 "nbformat": 4,
 "nbformat_minor": 2
}
